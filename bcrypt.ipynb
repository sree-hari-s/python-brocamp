{
 "cells": [
  {
   "cell_type": "code",
   "execution_count": 2,
   "id": "d9338b45",
   "metadata": {},
   "outputs": [
    {
     "name": "stdout",
     "output_type": "stream",
     "text": [
      "Password is correct!\n"
     ]
    }
   ],
   "source": [
    "import bcrypt\n",
    "\n",
    "hashed_password = '$2a$10$WpZKRZrZpuIB7naEuVFCiejcXRtsN3kBv6DZbqjSO8esE8GLKNbuG'\n",
    "password_attempt = '12345678'  # Replace with the password you want to check\n",
    "\n",
    "# Verify if the password matches the bcrypt hash\n",
    "if bcrypt.checkpw(password_attempt.encode('utf-8'), hashed_password.encode('utf-8')):\n",
    "    print(\"Password is correct!\")\n",
    "else:\n",
    "    print(\"Password is incorrect!\")\n"
   ]
  }
 ],
 "metadata": {
  "kernelspec": {
   "display_name": "Python 3 (ipykernel)",
   "language": "python",
   "name": "python3"
  },
  "language_info": {
   "codemirror_mode": {
    "name": "ipython",
    "version": 3
   },
   "file_extension": ".py",
   "mimetype": "text/x-python",
   "name": "python",
   "nbconvert_exporter": "python",
   "pygments_lexer": "ipython3",
   "version": "3.11.3"
  },
  "nbTranslate": {
   "displayLangs": [
    "*"
   ],
   "hotkey": "alt-t",
   "langInMainMenu": true,
   "sourceLang": "en",
   "targetLang": "fr",
   "useGoogleTranslate": true
  },
  "toc": {
   "base_numbering": 1,
   "nav_menu": {},
   "number_sections": true,
   "sideBar": true,
   "skip_h1_title": false,
   "title_cell": "Table of Contents",
   "title_sidebar": "Contents",
   "toc_cell": false,
   "toc_position": {},
   "toc_section_display": true,
   "toc_window_display": false
  }
 },
 "nbformat": 4,
 "nbformat_minor": 5
}
